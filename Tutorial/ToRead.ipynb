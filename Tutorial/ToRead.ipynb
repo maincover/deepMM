{
 "cells": [
  {
   "cell_type": "markdown",
   "metadata": {},
   "source": [
    "## Deep learning\n",
    "\n",
    "\n",
    "* [Building your Deep Neural Network: Step by Step](https://github.com/liufuyang/deep_learning_tutorial/blob/master/course-deeplearning.ai/course1-nn-and-deeplearning/Building%2Byour%2BDeep%2BNeural%2BNetwork%2B-%2BStep%2Bby%2BStep%2Bv3.ipynb)\n",
    "\n",
    "* [Convolutional Neural Networks: Application]( https://github.com/Kulbear/deep-learning-coursera/blob/master/Convolutional%20Neural%20Networks/Convolution%20model%20-%20Application%20-%20v1.ipynb)\n",
    "\n",
    "* [Demystifying Deep Convolutional Neural Networks](http://scs.ryerson.ca/~aharley/neural-networks/)\n",
    "\n",
    "* [CNN](http://cs231n.github.io/neural-networks-case-study/)\n",
    "\n",
    "* [Neural Networks Tutorial – A Pathway to Deep Learning](http://adventuresinmachinelearning.com/neural-networks-tutorial/)\n",
    "\n",
    "* [A PyTorch tutorial – deep learning in Python](http://adventuresinmachinelearning.com/pytorch-tutorial-deep-learning/)\n",
    "\n",
    "* [Excellent tutorial on deep learning](https://cs231n.github.io/)\n",
    "\n",
    "\n",
    "## Markdown\n",
    "\n",
    "* [Markdown Cheatsheet](https://github.com/adam-p/markdown-here/wiki/Markdown-Cheatsheet)\n",
    "* [Interactive Markdown Tutorial](http://eherrera.net/markdowntutorial/)\n",
    "\n",
    "## Anaconda\n",
    "* [Install Anaconda on linux](https://docs.anaconda.com/anaconda/install/linux)\n",
    "* [Jupyter notebook for beginners](https://www.dataquest.io/blog/jupyter-notebook-tutorial/)\n",
    "\n",
    "## Pytorch\n",
    "* [Pytorch tutorial](https://pytorch.org/tutorials/index.html)\n",
    "* [Examples](https://github.com/yunjey/pytorch-tutorial)\n",
    "\n",
    "## Algorithms\n",
    "* [Gradient Descent Algorithm Easy Understanding](https://www.kdnuggets.com/2017/04/simple-understand-gradient-descent-algorithm.html)\n",
    "\n",
    "## U Net\n",
    "* [Tutorial by video](https://lmb.informatik.uni-freiburg.de/people/ronneber/u-net/)\n",
    "* [Pytorch project](https://github.com/milesial/Pytorch-UNet)\n",
    "* [Keras project](https://github.com/yihui-he/u-net)\n",
    "* [Pytorch Unet](https://tuatini.me/practical-image-segmentation-with-unet/)\n",
    "\n",
    "\n",
    "* [Unet code](https://github.com/EKami/carvana-challenge/tree/original_unet)\n",
    "* [Practical image segmentation with Unet](https://tuatini.me/practical-image-segmentation-with-unet/)\n",
    "\n",
    "## Install pytorch\n",
    "* [Pytorch Examples](https://github.com/pytorch/examples)\n",
    "\n",
    "## Cuda for pytorch\n",
    "* [how to use cuda in pytorch (official)](https://pytorch.org/docs/master/notes/cuda.html)"
   ]
  },
  {
   "cell_type": "markdown",
   "metadata": {},
   "source": [
    "## Torch API conv2d: \n",
    "![alt text](./torch.nn.conv2d.png)\n",
    "![](./torch.nn.conv2d.size.png)\n"
   ]
  }
 ],
 "metadata": {
  "kernelspec": {
   "display_name": "Python 2",
   "language": "python",
   "name": "python2"
  },
  "language_info": {
   "codemirror_mode": {
    "name": "ipython",
    "version": 2
   },
   "file_extension": ".py",
   "mimetype": "text/x-python",
   "name": "python",
   "nbconvert_exporter": "python",
   "pygments_lexer": "ipython2",
   "version": "2.7.11"
  }
 },
 "nbformat": 4,
 "nbformat_minor": 0
}
