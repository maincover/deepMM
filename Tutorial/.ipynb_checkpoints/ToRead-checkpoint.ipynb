{
 "cells": [
  {
   "cell_type": "markdown",
   "metadata": {},
   "source": [
    "## Deep learning\n",
    "\n",
    "\n",
    "* [Building your Deep Neural Network: Step by Step](https://github.com/liufuyang/deep_learning_tutorial/blob/master/course-deeplearning.ai/course1-nn-and-deeplearning/Building%2Byour%2BDeep%2BNeural%2BNetwork%2B-%2BStep%2Bby%2BStep%2Bv3.ipynb)\n",
    "\n",
    "* [Convolutional Neural Networks: Application]( https://github.com/Kulbear/deep-learning-coursera/blob/master/Convolutional%20Neural%20Networks/Convolution%20model%20-%20Application%20-%20v1.ipynb)\n",
    "\n",
    "* [Demystifying Deep Convolutional Neural Networks](http://scs.ryerson.ca/~aharley/neural-networks/)\n",
    "\n",
    "* [CNN](http://cs231n.github.io/neural-networks-case-study/)\n",
    "\n",
    "\n",
    "## Markdown\n",
    "\n",
    "* [Markdown Cheatsheet](https://github.com/adam-p/markdown-here/wiki/Markdown-Cheatsheet)\n",
    "\n",
    "## Anaconda\n",
    "* [Install Anaconda on linux](https://docs.anaconda.com/anaconda/install/linux)\n",
    "* [Jupyter notebook for beginners](https://www.dataquest.io/blog/jupyter-notebook-tutorial/)"
   ]
  }
 ],
 "metadata": {
  "kernelspec": {
   "display_name": "Python 2",
   "language": "python",
   "name": "python2"
  },
  "language_info": {
   "codemirror_mode": {
    "name": "ipython",
    "version": 2
   },
   "file_extension": ".py",
   "mimetype": "text/x-python",
   "name": "python",
   "nbconvert_exporter": "python",
   "pygments_lexer": "ipython2",
   "version": "2.7.11"
  }
 },
 "nbformat": 4,
 "nbformat_minor": 0
}
