{
 "cells": [
  {
   "cell_type": "markdown",
   "metadata": {},
   "source": [
    "# Detectron\n",
    "\n",
    "## Region Proposals\n",
    "we expect the proposals for a dataset to be provided in a pkl file that contains a serialized proposals dictionary with the following entries:\n",
    "\n",
    "proposals.keys() - ['cfg', 'ids', 'scores', 'boxes']\n",
    "\n",
    "where\n",
    "\n",
    "proposals['cfg'] - config used to compute the proposals\n",
    "\n",
    "proposals['ids][i] - id for the i-th image\n",
    "\n",
    "proposals['scores'][i] - ndarray (N_i,) containing scores for the proposals in the i-th image\n",
    "\n",
    "proposals['boxes'][i]  - ndarray (N_i, 4) containing coordinates (x1, y1, x2, y2) for the proposals in the i-th image\n",
    "\n"
   ]
  },
  {
   "cell_type": "markdown",
   "metadata": {},
   "source": [
    "# 1. Blobs，Workspace，Tensors\n",
    "\n",
    "Caffe2 的 Data 是以 blobs 的形式组织的.\n",
    "\n",
    "blob 即是内存中被命名的 data chunk(数据块).\n",
    "\n",
    "blobs 一般包含一个 tensor(可以看做是多维数组)，在 Python 中的存在形式是 numpy arrays.\n",
    "\n",
    "Workspace 存储所有的 blobs. 如下例，展示了将 blobs 送入 workspace (Feed) 以及从 workspace 读取 blobs [Fetch]的方法.\n",
    "\n",
    "Workspaces 在开始使用时会自动初始化."
   ]
  },
  {
   "cell_type": "code",
   "execution_count": 1,
   "metadata": {},
   "outputs": [
    {
     "name": "stdout",
     "output_type": "stream",
     "text": [
      "[[[0.43033336 0.07997708]\n",
      "  [0.23825377 0.54042483]\n",
      "  [0.0034584  0.66832894]]\n",
      "\n",
      " [[0.80541561 0.53480687]\n",
      "  [0.66886001 0.25899185]\n",
      "  [0.34194229 0.22800033]]\n",
      "\n",
      " [[0.32670712 0.64598489]\n",
      "  [0.1278269  0.39553063]\n",
      "  [0.11457012 0.63205072]]\n",
      "\n",
      " [[0.98938501 0.5224455 ]\n",
      "  [0.34141606 0.41883644]\n",
      "  [0.45854937 0.15138438]]]\n",
      "(4, 3, 2)\n",
      "[[[0.43033336 0.07997708]\n",
      "  [0.23825377 0.54042483]\n",
      "  [0.0034584  0.66832894]]\n",
      "\n",
      " [[0.80541561 0.53480687]\n",
      "  [0.66886001 0.25899185]\n",
      "  [0.34194229 0.22800033]]\n",
      "\n",
      " [[0.32670712 0.64598489]\n",
      "  [0.1278269  0.39553063]\n",
      "  [0.11457012 0.63205072]]\n",
      "\n",
      " [[0.98938501 0.5224455 ]\n",
      "  [0.34141606 0.41883644]\n",
      "  [0.45854937 0.15138438]]]\n"
     ]
    }
   ],
   "source": [
    "from caffe2.python import workspace, model_helper\n",
    "import numpy as np\n",
    "# Create random tensor of three dimensions\n",
    "x = np.random.rand(4, 3, 2)\n",
    "print(x)\n",
    "print(x.shape)\n",
    "\n",
    "workspace.FeedBlob(\"my_x\", x)\n",
    "\n",
    "x2 = workspace.FetchBlob(\"my_x\")\n",
    "print(x2)"
   ]
  },
  {
   "cell_type": "markdown",
   "metadata": {},
   "source": [
    "# 2 Nets，Operators\n",
    "\n",
    "Caffe2 基础的模型抽象是 net.\n",
    "\n",
    "net 是由 operators 组成的 graph，每一个 operator 根据输入 input blobs 集，而输出一个或多个 output blobs.\n",
    "\n",
    "以构建简单网络模型为例，其包括以下几种组成：\n",
    "\n",
    ">    1 个全连接层(FC)；\n",
    "\n",
    ">    1 个采用 softmax 的 Sigmoid 激活层；\n",
    "\n",
    ">    1 个 CrossEntropy 层\n",
    "\n",
    "这里不直接构建 nets，而是借助 model_helpers 来进行 nets 构建； model_helpers 是创建 nets 的 Python 类.\n",
    "\n",
    "将待创建的网络记为 “my first net”，ModelHelper 会另外创建两个相互关联的 nets：\n",
    "\n",
    "+ 一个是，参数初始化网络(记 init_net)\n",
    "+ 一个是，真实训练网络(记 exec_net)\n",
    "\n",
    "首先，随机生成 data 和label，并作为 blobs 输入到 workspace：\n"
   ]
  },
  {
   "cell_type": "code",
   "execution_count": 3,
   "metadata": {},
   "outputs": [
    {
     "name": "stdout",
     "output_type": "stream",
     "text": [
      "[3 0 0 8 9 4 8 9 3 1 3 5 1 1 6 6]\n"
     ]
    }
   ],
   "source": [
    "# Create the input data\n",
    "data = np.random.rand(16, 100).astype(np.float32)\n",
    "\n",
    "# Create labels for the data as integers [0, 9]\n",
    "label = (np.random.rand(16) * 10).astype(np.int32)\n",
    "\n",
    "workspace.FeedBlob(\"data\", data)\n",
    "workspace.FeedBlob(\"label\", label)\n",
    "\n",
    "print label"
   ]
  },
  {
   "cell_type": "markdown",
   "metadata": {},
   "source": [
    "然后，采用 model_helper 来创建 init_net 和 exec_net；并接着对 model 采用 FC operator 添加全连接层. 这里 FC op 需要先生成一些随机 fills.\n",
    "\n",
    "生成随机 fills 后，即可将 fc ops 添加到模型，并使用创建的 weights 和 bias blobs，可以根据其名字进行调用.\n",
    "\n",
    "Caffe2 中，FC op 包括三部分： input blob，weights 和 bias. Weights 和 bias 可以使用 XavierFill 或 ConstantFill初始化，参数包括三部分： [ ] - 空数组；’fc_w/fc_b’ - 名称；shape - shape=[output, input]. "
   ]
  },
  {
   "cell_type": "code",
   "execution_count": 4,
   "metadata": {},
   "outputs": [],
   "source": [
    "# Create model using a model helper\n",
    "m = model_helper.ModelHelper(name=\"my first net\")\n",
    "\n",
    "# Create random fills\n",
    "weight = m.param_init_net.XavierFill([], 'fc_w', shape=[10, 100])\n",
    "bias = m.param_init_net.ConstantFill([], 'fc_b', shape=[10, ])\n",
    "\n",
    "fc_1 = m.net.FC([\"data\", \"fc_w\", \"fc_b\"], \"fc1\")\n",
    "pred = m.net.Sigmoid(fc_1, \"pred\")\n",
    "softmax, loss = m.net.SoftmaxWithLoss([pred, \"label\"], [\"softmax\", \"loss\"])"
   ]
  },
  {
   "cell_type": "markdown",
   "metadata": {},
   "source": [
    "回顾下创建过程：\n",
    "\n",
    "*        首先，创建内存里的 input data 和 label blobs；实际应用中，从相应的 database 来加载读取.\n",
    "\n",
    "*        data 和 label blobs 的 first dim=16，即 batchsize=16.\n",
    "\n",
    "        >基于 ModelHelper 可以进行处理许多 Caffe2 operators，更多细节参考 ModelHelper’s Operator List.\n",
    "\n",
    "        >然后，通过定义多个 operators 来创建模型：FC, Sigmoid 和 SoftmaxWithLoss.\n",
    "\n",
    "        >此时，只是定义了 operators 和 model.\n",
    "\n",
    "        >ModelHelper 创建了两个 nets：\n",
    "*            m.param_init_net\n",
    "\n",
    "        > 只运行一次；初始化参数 blobs；\n",
    "*            m.net \n",
    "\n",
    "        > 训练网络.\n",
    "\n"
   ]
  },
  {
   "cell_type": "markdown",
   "metadata": {},
   "source": [
    "网络定义保存为 protobuf 结构，可以通过调用 net.Proto() 来查看网络结构."
   ]
  },
  {
   "cell_type": "code",
   "execution_count": 5,
   "metadata": {},
   "outputs": [
    {
     "name": "stdout",
     "output_type": "stream",
     "text": [
      "name: \"my first net\"\n",
      "op {\n",
      "  input: \"data\"\n",
      "  input: \"fc_w\"\n",
      "  input: \"fc_b\"\n",
      "  output: \"fc1\"\n",
      "  name: \"\"\n",
      "  type: \"FC\"\n",
      "}\n",
      "op {\n",
      "  input: \"fc1\"\n",
      "  output: \"pred\"\n",
      "  name: \"\"\n",
      "  type: \"Sigmoid\"\n",
      "}\n",
      "op {\n",
      "  input: \"pred\"\n",
      "  input: \"label\"\n",
      "  output: \"softmax\"\n",
      "  output: \"loss\"\n",
      "  name: \"\"\n",
      "  type: \"SoftmaxWithLoss\"\n",
      "}\n",
      "external_input: \"data\"\n",
      "external_input: \"fc_w\"\n",
      "external_input: \"fc_b\"\n",
      "external_input: \"label\"\n",
      "\n"
     ]
    }
   ],
   "source": [
    "print(m.net.Proto())"
   ]
  },
  {
   "cell_type": "markdown",
   "metadata": {},
   "source": [
    "参数初始化化网络："
   ]
  },
  {
   "cell_type": "markdown",
   "metadata": {},
   "source": [
    "print(m.param_init_net.Proto())"
   ]
  },
  {
   "cell_type": "markdown",
   "metadata": {},
   "source": [
    "# 3. Executing\n",
    "\n",
    "定义好模型训练 operators 后，可以开始训练模型.\n",
    "\n",
    "首先，运行一次参数初始化网络："
   ]
  },
  {
   "cell_type": "code",
   "execution_count": 7,
   "metadata": {},
   "outputs": [
    {
     "data": {
      "text/plain": [
       "True"
      ]
     },
     "execution_count": 7,
     "metadata": {},
     "output_type": "execute_result"
    }
   ],
   "source": [
    "workspace.RunNetOnce(m.param_init_net)"
   ]
  },
  {
   "cell_type": "markdown",
   "metadata": {},
   "source": [
    "然后，创建训练网络："
   ]
  },
  {
   "cell_type": "code",
   "execution_count": 8,
   "metadata": {},
   "outputs": [
    {
     "data": {
      "text/plain": [
       "True"
      ]
     },
     "execution_count": 8,
     "metadata": {},
     "output_type": "execute_result"
    }
   ],
   "source": [
    "workspace.CreateNet(m.net)"
   ]
  },
  {
   "cell_type": "raw",
   "metadata": {},
   "source": [
    "接着，网络训练："
   ]
  },
  {
   "cell_type": "code",
   "execution_count": 12,
   "metadata": {},
   "outputs": [
    {
     "name": "stdout",
     "output_type": "stream",
     "text": [
      "[1 7 5 7 3 9 0 3 4 9 6 3 7 8 4 9]\n"
     ]
    }
   ],
   "source": [
    "# Run 100 x 10 iterations\n",
    "for _ in range(100):\n",
    "    data = np.random.rand(16, 100).astype(np.float32)\n",
    "    label = (np.random.rand(16) * 10).astype(np.int32)\n",
    "\n",
    "    workspace.FeedBlob(\"data\", data)\n",
    "    workspace.FeedBlob(\"label\", label)\n",
    "\n",
    "    workspace.RunNet(m.name, 10)   # run for 10 times\n",
    "    \n",
    "print workspace.FetchBlob(\"label\")"
   ]
  },
  {
   "cell_type": "code",
   "execution_count": null,
   "metadata": {},
   "outputs": [],
   "source": []
  }
 ],
 "metadata": {
  "kernelspec": {
   "display_name": "Python 2",
   "language": "python",
   "name": "python2"
  },
  "language_info": {
   "codemirror_mode": {
    "name": "ipython",
    "version": 2
   },
   "file_extension": ".py",
   "mimetype": "text/x-python",
   "name": "python",
   "nbconvert_exporter": "python",
   "pygments_lexer": "ipython2",
   "version": "2.7.15"
  }
 },
 "nbformat": 4,
 "nbformat_minor": 2
}
